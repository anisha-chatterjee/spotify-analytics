{
 "cells": [
  {
   "cell_type": "code",
   "execution_count": 2,
   "id": "d548735c-4861-4fc8-af8e-963acf62a4de",
   "metadata": {},
   "outputs": [],
   "source": [
    "scope = \"user-read-private user-read-email user-top-read\"\n",
    "redirect_uri ='http://localhost:9000'"
   ]
  },
  {
   "cell_type": "code",
   "execution_count": 3,
   "id": "5e34062f-a27c-4b85-ac95-bc14dcfb373c",
   "metadata": {},
   "outputs": [],
   "source": [
    "# use spotipy authentication\n",
    "import spotipy\n",
    "from spotipy.oauth2 import SpotifyOAuth\n",
    "\n",
    "cred_manager = SpotifyOAuth(scope=scope, client_id=cid, client_secret=secret, redirect_uri=redirect_uri)\n",
    "sp = spotipy.Spotify(auth_manager=cred_manager)"
   ]
  },
  {
   "cell_type": "code",
   "execution_count": null,
   "id": "d2c7af46-f67f-49c0-a7fc-159a7b7f6b39",
   "metadata": {},
   "outputs": [],
   "source": []
  }
 ],
 "metadata": {
  "kernelspec": {
   "display_name": "Python 3 (ipykernel)",
   "language": "python",
   "name": "python3"
  },
  "language_info": {
   "codemirror_mode": {
    "name": "ipython",
    "version": 3
   },
   "file_extension": ".py",
   "mimetype": "text/x-python",
   "name": "python",
   "nbconvert_exporter": "python",
   "pygments_lexer": "ipython3",
   "version": "3.9.16"
  }
 },
 "nbformat": 4,
 "nbformat_minor": 5
}
